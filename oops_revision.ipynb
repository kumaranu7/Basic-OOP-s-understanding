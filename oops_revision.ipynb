{
 "cells": [
  {
   "cell_type": "code",
   "execution_count": 1,
   "id": "756caad2",
   "metadata": {},
   "outputs": [
    {
     "name": "stdout",
     "output_type": "stream",
     "text": [
      "Collecting atoti\n",
      "  Downloading atoti-0.5.5-0_dc3a2a6-py3-none-any.whl (150.9 MB)\n",
      "Requirement already satisfied: numpy!=1.19.4 in c:\\users\\k_anu\\appdata\\local\\programs\\python\\python37-32\\lib\\site-packages (from atoti) (1.20.3)\n",
      "Collecting typeguard\n",
      "  Downloading typeguard-2.12.1-py3-none-any.whl (17 kB)\n",
      "Requirement already satisfied: pandas in c:\\users\\k_anu\\appdata\\local\\programs\\python\\python37-32\\lib\\site-packages (from atoti) (1.2.4)\n",
      "Collecting atoti\n",
      "  Downloading atoti-0.5.4-0_fd34f14-py3-none-any.whl (150.9 MB)\n",
      "  Downloading atoti-0.5.3-0_c4cb894-py3-none-any.whl (150.9 MB)\n",
      "  Downloading atoti-0.5.2-0_6b58d72-py3-none-any.whl (141.4 MB)\n",
      "Collecting pyarrow>=2.0.0\n",
      "  Downloading pyarrow-4.0.1.tar.gz (711 kB)\n",
      "  Installing build dependencies: started\n",
      "  Installing build dependencies: still running...\n",
      "  Installing build dependencies: finished with status 'done'\n",
      "  Getting requirements to build wheel: started\n",
      "  Getting requirements to build wheel: finished with status 'done'\n",
      "    Preparing wheel metadata: started\n",
      "    Preparing wheel metadata: finished with status 'done'\n",
      "Collecting atoti\n",
      "  Downloading atoti-0.5.1-0_7f32d5e-py3-none-any.whl (137.9 MB)\n",
      "  Downloading atoti-0.5.0-0_539610c-py3-none-any.whl (137.1 MB)\n",
      "Collecting jdk4py==11.0.7.3\n",
      "  Downloading jdk4py-11.0.7.3.tar.gz (2.7 kB)\n",
      "Requirement already satisfied: typing-extensions in c:\\users\\k_anu\\appdata\\local\\programs\\python\\python37-32\\lib\\site-packages (from atoti) (3.10.0.0)\n",
      "Collecting pyyaml\n",
      "  Using cached PyYAML-5.4.1-cp37-cp37m-win32.whl (193 kB)\n",
      "Requirement already satisfied: pytz>=2017.3 in c:\\users\\k_anu\\appdata\\local\\programs\\python\\python37-32\\lib\\site-packages (from pandas->atoti) (2021.1)\n",
      "Requirement already satisfied: python-dateutil>=2.7.3 in c:\\users\\k_anu\\appdata\\local\\programs\\python\\python37-32\\lib\\site-packages (from pandas->atoti) (2.8.1)\n",
      "Requirement already satisfied: six>=1.5 in c:\\users\\k_anu\\appdata\\local\\programs\\python\\python37-32\\lib\\site-packages (from python-dateutil>=2.7.3->pandas->atoti) (1.16.0)\n",
      "Using legacy 'setup.py install' for jdk4py, since package 'wheel' is not installed.\n",
      "Building wheels for collected packages: pyarrow\n",
      "  Building wheel for pyarrow (PEP 517): started\n",
      "  Building wheel for pyarrow (PEP 517): finished with status 'error'\n",
      "Failed to build pyarrow\n",
      "Note: you may need to restart the kernel to use updated packages.\n"
     ]
    },
    {
     "name": "stderr",
     "output_type": "stream",
     "text": [
      "  ERROR: Command errored out with exit status 1:\n",
      "   command: 'c:\\users\\k_anu\\appdata\\local\\programs\\python\\python37-32\\python.exe' 'c:\\users\\k_anu\\appdata\\local\\programs\\python\\python37-32\\lib\\site-packages\\pip\\_vendor\\pep517\\in_process\\_in_process.py' build_wheel 'C:\\Users\\k_anu\\AppData\\Local\\Temp\\tmpjfaaclz_'\n",
      "       cwd: C:\\Users\\k_anu\\AppData\\Local\\Temp\\pip-install-39wok7ry\\pyarrow_5fbb23723fdd4e11b44737af39cdec71\n",
      "  Complete output (225 lines):\n",
      "  running bdist_wheel\n",
      "  running build\n",
      "  running build_py\n",
      "  creating build\n",
      "  creating build\\lib.win32-3.7\n",
      "  creating build\\lib.win32-3.7\\pyarrow\n",
      "  copying pyarrow\\benchmark.py -> build\\lib.win32-3.7\\pyarrow\n",
      "  copying pyarrow\\cffi.py -> build\\lib.win32-3.7\\pyarrow\n",
      "  copying pyarrow\\compat.py -> build\\lib.win32-3.7\\pyarrow\n",
      "  copying pyarrow\\compute.py -> build\\lib.win32-3.7\\pyarrow\n",
      "  copying pyarrow\\csv.py -> build\\lib.win32-3.7\\pyarrow\n",
      "  copying pyarrow\\cuda.py -> build\\lib.win32-3.7\\pyarrow\n",
      "  copying pyarrow\\dataset.py -> build\\lib.win32-3.7\\pyarrow\n",
      "  copying pyarrow\\feather.py -> build\\lib.win32-3.7\\pyarrow\n",
      "  copying pyarrow\\filesystem.py -> build\\lib.win32-3.7\\pyarrow\n",
      "  copying pyarrow\\flight.py -> build\\lib.win32-3.7\\pyarrow\n",
      "  copying pyarrow\\fs.py -> build\\lib.win32-3.7\\pyarrow\n",
      "  copying pyarrow\\hdfs.py -> build\\lib.win32-3.7\\pyarrow\n",
      "  copying pyarrow\\ipc.py -> build\\lib.win32-3.7\\pyarrow\n",
      "  copying pyarrow\\json.py -> build\\lib.win32-3.7\\pyarrow\n",
      "  copying pyarrow\\jvm.py -> build\\lib.win32-3.7\\pyarrow\n",
      "  copying pyarrow\\orc.py -> build\\lib.win32-3.7\\pyarrow\n",
      "  copying pyarrow\\pandas_compat.py -> build\\lib.win32-3.7\\pyarrow\n",
      "  copying pyarrow\\parquet.py -> build\\lib.win32-3.7\\pyarrow\n",
      "  copying pyarrow\\plasma.py -> build\\lib.win32-3.7\\pyarrow\n",
      "  copying pyarrow\\serialization.py -> build\\lib.win32-3.7\\pyarrow\n",
      "  copying pyarrow\\types.py -> build\\lib.win32-3.7\\pyarrow\n",
      "  copying pyarrow\\util.py -> build\\lib.win32-3.7\\pyarrow\n",
      "  copying pyarrow\\_generated_version.py -> build\\lib.win32-3.7\\pyarrow\n",
      "  copying pyarrow\\__init__.py -> build\\lib.win32-3.7\\pyarrow\n",
      "  creating build\\lib.win32-3.7\\pyarrow\\tests\n",
      "  copying pyarrow\\tests\\arrow_7980.py -> build\\lib.win32-3.7\\pyarrow\\tests\n",
      "  copying pyarrow\\tests\\conftest.py -> build\\lib.win32-3.7\\pyarrow\\tests\n",
      "  copying pyarrow\\tests\\deserialize_buffer.py -> build\\lib.win32-3.7\\pyarrow\\tests\n",
      "  copying pyarrow\\tests\\pandas_examples.py -> build\\lib.win32-3.7\\pyarrow\\tests\n",
      "  copying pyarrow\\tests\\pandas_threaded_import.py -> build\\lib.win32-3.7\\pyarrow\\tests\n",
      "  copying pyarrow\\tests\\strategies.py -> build\\lib.win32-3.7\\pyarrow\\tests\n",
      "  copying pyarrow\\tests\\test_adhoc_memory_leak.py -> build\\lib.win32-3.7\\pyarrow\\tests\n",
      "  copying pyarrow\\tests\\test_array.py -> build\\lib.win32-3.7\\pyarrow\\tests\n",
      "  copying pyarrow\\tests\\test_builder.py -> build\\lib.win32-3.7\\pyarrow\\tests\n",
      "  copying pyarrow\\tests\\test_cffi.py -> build\\lib.win32-3.7\\pyarrow\\tests\n",
      "  copying pyarrow\\tests\\test_compute.py -> build\\lib.win32-3.7\\pyarrow\\tests\n",
      "  copying pyarrow\\tests\\test_convert_builtin.py -> build\\lib.win32-3.7\\pyarrow\\tests\n",
      "  copying pyarrow\\tests\\test_csv.py -> build\\lib.win32-3.7\\pyarrow\\tests\n",
      "  copying pyarrow\\tests\\test_cuda.py -> build\\lib.win32-3.7\\pyarrow\\tests\n",
      "  copying pyarrow\\tests\\test_cuda_numba_interop.py -> build\\lib.win32-3.7\\pyarrow\\tests\n",
      "  copying pyarrow\\tests\\test_cython.py -> build\\lib.win32-3.7\\pyarrow\\tests\n",
      "  copying pyarrow\\tests\\test_dataset.py -> build\\lib.win32-3.7\\pyarrow\\tests\n",
      "  copying pyarrow\\tests\\test_deprecations.py -> build\\lib.win32-3.7\\pyarrow\\tests\n",
      "  copying pyarrow\\tests\\test_extension_type.py -> build\\lib.win32-3.7\\pyarrow\\tests\n",
      "  copying pyarrow\\tests\\test_feather.py -> build\\lib.win32-3.7\\pyarrow\\tests\n",
      "  copying pyarrow\\tests\\test_filesystem.py -> build\\lib.win32-3.7\\pyarrow\\tests\n",
      "  copying pyarrow\\tests\\test_flight.py -> build\\lib.win32-3.7\\pyarrow\\tests\n",
      "  copying pyarrow\\tests\\test_fs.py -> build\\lib.win32-3.7\\pyarrow\\tests\n",
      "  copying pyarrow\\tests\\test_gandiva.py -> build\\lib.win32-3.7\\pyarrow\\tests\n",
      "  copying pyarrow\\tests\\test_hdfs.py -> build\\lib.win32-3.7\\pyarrow\\tests\n",
      "  copying pyarrow\\tests\\test_io.py -> build\\lib.win32-3.7\\pyarrow\\tests\n",
      "  copying pyarrow\\tests\\test_ipc.py -> build\\lib.win32-3.7\\pyarrow\\tests\n",
      "  copying pyarrow\\tests\\test_json.py -> build\\lib.win32-3.7\\pyarrow\\tests\n",
      "  copying pyarrow\\tests\\test_jvm.py -> build\\lib.win32-3.7\\pyarrow\\tests\n",
      "  copying pyarrow\\tests\\test_memory.py -> build\\lib.win32-3.7\\pyarrow\\tests\n",
      "  copying pyarrow\\tests\\test_misc.py -> build\\lib.win32-3.7\\pyarrow\\tests\n",
      "  copying pyarrow\\tests\\test_orc.py -> build\\lib.win32-3.7\\pyarrow\\tests\n",
      "  copying pyarrow\\tests\\test_pandas.py -> build\\lib.win32-3.7\\pyarrow\\tests\n",
      "  copying pyarrow\\tests\\test_plasma.py -> build\\lib.win32-3.7\\pyarrow\\tests\n",
      "  copying pyarrow\\tests\\test_plasma_tf_op.py -> build\\lib.win32-3.7\\pyarrow\\tests\n",
      "  copying pyarrow\\tests\\test_scalars.py -> build\\lib.win32-3.7\\pyarrow\\tests\n",
      "  copying pyarrow\\tests\\test_schema.py -> build\\lib.win32-3.7\\pyarrow\\tests\n",
      "  copying pyarrow\\tests\\test_serialization.py -> build\\lib.win32-3.7\\pyarrow\\tests\n",
      "  copying pyarrow\\tests\\test_serialization_deprecated.py -> build\\lib.win32-3.7\\pyarrow\\tests\n",
      "  copying pyarrow\\tests\\test_sparse_tensor.py -> build\\lib.win32-3.7\\pyarrow\\tests\n",
      "  copying pyarrow\\tests\\test_strategies.py -> build\\lib.win32-3.7\\pyarrow\\tests\n",
      "  copying pyarrow\\tests\\test_table.py -> build\\lib.win32-3.7\\pyarrow\\tests\n",
      "  copying pyarrow\\tests\\test_tensor.py -> build\\lib.win32-3.7\\pyarrow\\tests\n",
      "  copying pyarrow\\tests\\test_types.py -> build\\lib.win32-3.7\\pyarrow\\tests\n",
      "  copying pyarrow\\tests\\util.py -> build\\lib.win32-3.7\\pyarrow\\tests\n",
      "  copying pyarrow\\tests\\__init__.py -> build\\lib.win32-3.7\\pyarrow\\tests\n",
      "  running egg_info\n",
      "  writing pyarrow.egg-info\\PKG-INFO\n",
      "  writing dependency_links to pyarrow.egg-info\\dependency_links.txt\n",
      "  writing entry points to pyarrow.egg-info\\entry_points.txt\n",
      "  writing requirements to pyarrow.egg-info\\requires.txt\n",
      "  writing top-level names to pyarrow.egg-info\\top_level.txt\n",
      "  reading manifest file 'pyarrow.egg-info\\SOURCES.txt'\n",
      "  reading manifest template 'MANIFEST.in'\n",
      "  warning: no files found matching '..\\LICENSE.txt'\n",
      "  warning: no files found matching '..\\NOTICE.txt'\n",
      "  warning: no previously-included files matching '*.so' found anywhere in distribution\n",
      "  warning: no previously-included files matching '*.pyc' found anywhere in distribution\n",
      "  warning: no previously-included files matching '*~' found anywhere in distribution\n",
      "  warning: no previously-included files matching '#*' found anywhere in distribution\n",
      "  warning: no previously-included files matching '.git*' found anywhere in distribution\n",
      "  warning: no previously-included files matching '.DS_Store' found anywhere in distribution\n",
      "  no previously-included directories found matching '.asv'\n",
      "  writing manifest file 'pyarrow.egg-info\\SOURCES.txt'\n",
      "  copying pyarrow\\__init__.pxd -> build\\lib.win32-3.7\\pyarrow\n",
      "  copying pyarrow\\_compute.pxd -> build\\lib.win32-3.7\\pyarrow\n",
      "  copying pyarrow\\_compute.pyx -> build\\lib.win32-3.7\\pyarrow\n",
      "  copying pyarrow\\_csv.pxd -> build\\lib.win32-3.7\\pyarrow\n",
      "  copying pyarrow\\_csv.pyx -> build\\lib.win32-3.7\\pyarrow\n",
      "  copying pyarrow\\_cuda.pxd -> build\\lib.win32-3.7\\pyarrow\n",
      "  copying pyarrow\\_cuda.pyx -> build\\lib.win32-3.7\\pyarrow\n",
      "  copying pyarrow\\_dataset.pyx -> build\\lib.win32-3.7\\pyarrow\n",
      "  copying pyarrow\\_flight.pyx -> build\\lib.win32-3.7\\pyarrow\n",
      "  copying pyarrow\\_fs.pxd -> build\\lib.win32-3.7\\pyarrow\n",
      "  copying pyarrow\\_fs.pyx -> build\\lib.win32-3.7\\pyarrow\n",
      "  copying pyarrow\\_hdfs.pyx -> build\\lib.win32-3.7\\pyarrow\n",
      "  copying pyarrow\\_json.pyx -> build\\lib.win32-3.7\\pyarrow\n",
      "  copying pyarrow\\_orc.pxd -> build\\lib.win32-3.7\\pyarrow\n",
      "  copying pyarrow\\_orc.pyx -> build\\lib.win32-3.7\\pyarrow\n",
      "  copying pyarrow\\_parquet.pxd -> build\\lib.win32-3.7\\pyarrow\n",
      "  copying pyarrow\\_parquet.pyx -> build\\lib.win32-3.7\\pyarrow\n",
      "  copying pyarrow\\_plasma.pyx -> build\\lib.win32-3.7\\pyarrow\n",
      "  copying pyarrow\\_s3fs.pyx -> build\\lib.win32-3.7\\pyarrow\n",
      "  copying pyarrow\\array.pxi -> build\\lib.win32-3.7\\pyarrow\n",
      "  copying pyarrow\\benchmark.pxi -> build\\lib.win32-3.7\\pyarrow\n",
      "  copying pyarrow\\builder.pxi -> build\\lib.win32-3.7\\pyarrow\n",
      "  copying pyarrow\\compat.pxi -> build\\lib.win32-3.7\\pyarrow\n",
      "  copying pyarrow\\config.pxi -> build\\lib.win32-3.7\\pyarrow\n",
      "  copying pyarrow\\error.pxi -> build\\lib.win32-3.7\\pyarrow\n",
      "  copying pyarrow\\feather.pxi -> build\\lib.win32-3.7\\pyarrow\n",
      "  copying pyarrow\\gandiva.pyx -> build\\lib.win32-3.7\\pyarrow\n",
      "  copying pyarrow\\io-hdfs.pxi -> build\\lib.win32-3.7\\pyarrow\n"
     ]
    },
    {
     "name": "stderr",
     "output_type": "stream",
     "text": [
      "  copying pyarrow\\io.pxi -> build\\lib.win32-3.7\\pyarrow\n",
      "  copying pyarrow\\ipc.pxi -> build\\lib.win32-3.7\\pyarrow\n",
      "  copying pyarrow\\lib.pxd -> build\\lib.win32-3.7\\pyarrow\n",
      "  copying pyarrow\\lib.pyx -> build\\lib.win32-3.7\\pyarrow\n",
      "  copying pyarrow\\memory.pxi -> build\\lib.win32-3.7\\pyarrow\n",
      "  copying pyarrow\\pandas-shim.pxi -> build\\lib.win32-3.7\\pyarrow\n",
      "  copying pyarrow\\public-api.pxi -> build\\lib.win32-3.7\\pyarrow\n",
      "  copying pyarrow\\scalar.pxi -> build\\lib.win32-3.7\\pyarrow\n",
      "  copying pyarrow\\serialization.pxi -> build\\lib.win32-3.7\\pyarrow\n",
      "  copying pyarrow\\table.pxi -> build\\lib.win32-3.7\\pyarrow\n",
      "  copying pyarrow\\tensor.pxi -> build\\lib.win32-3.7\\pyarrow\n",
      "  copying pyarrow\\types.pxi -> build\\lib.win32-3.7\\pyarrow\n",
      "  creating build\\lib.win32-3.7\\pyarrow\\includes\n",
      "  copying pyarrow\\includes\\__init__.pxd -> build\\lib.win32-3.7\\pyarrow\\includes\n",
      "  copying pyarrow\\includes\\common.pxd -> build\\lib.win32-3.7\\pyarrow\\includes\n",
      "  copying pyarrow\\includes\\libarrow.pxd -> build\\lib.win32-3.7\\pyarrow\\includes\n",
      "  copying pyarrow\\includes\\libarrow_cuda.pxd -> build\\lib.win32-3.7\\pyarrow\\includes\n",
      "  copying pyarrow\\includes\\libarrow_dataset.pxd -> build\\lib.win32-3.7\\pyarrow\\includes\n",
      "  copying pyarrow\\includes\\libarrow_flight.pxd -> build\\lib.win32-3.7\\pyarrow\\includes\n",
      "  copying pyarrow\\includes\\libarrow_fs.pxd -> build\\lib.win32-3.7\\pyarrow\\includes\n",
      "  copying pyarrow\\includes\\libgandiva.pxd -> build\\lib.win32-3.7\\pyarrow\\includes\n",
      "  copying pyarrow\\includes\\libplasma.pxd -> build\\lib.win32-3.7\\pyarrow\\includes\n",
      "  creating build\\lib.win32-3.7\\pyarrow\\tensorflow\n",
      "  copying pyarrow\\tensorflow\\plasma_op.cc -> build\\lib.win32-3.7\\pyarrow\\tensorflow\n",
      "  creating build\\lib.win32-3.7\\pyarrow\\vendored\n",
      "  copying pyarrow\\vendored\\__init__.py -> build\\lib.win32-3.7\\pyarrow\\vendored\n",
      "  copying pyarrow\\vendored\\version.py -> build\\lib.win32-3.7\\pyarrow\\vendored\n",
      "  copying pyarrow\\tests\\pyarrow_cython_example.pyx -> build\\lib.win32-3.7\\pyarrow\\tests\n",
      "  creating build\\lib.win32-3.7\\pyarrow\\tests\\data\n",
      "  creating build\\lib.win32-3.7\\pyarrow\\tests\\data\\feather\n",
      "  copying pyarrow\\tests\\data\\feather\\v0.17.0.version=2-compression=lz4.feather -> build\\lib.win32-3.7\\pyarrow\\tests\\data\\feather\n",
      "  creating build\\lib.win32-3.7\\pyarrow\\tests\\data\\orc\n",
      "  copying pyarrow\\tests\\data\\orc\\README.md -> build\\lib.win32-3.7\\pyarrow\\tests\\data\\orc\n",
      "  copying pyarrow\\tests\\data\\orc\\TestOrcFile.emptyFile.jsn.gz -> build\\lib.win32-3.7\\pyarrow\\tests\\data\\orc\n",
      "  copying pyarrow\\tests\\data\\orc\\TestOrcFile.emptyFile.orc -> build\\lib.win32-3.7\\pyarrow\\tests\\data\\orc\n",
      "  copying pyarrow\\tests\\data\\orc\\TestOrcFile.test1.jsn.gz -> build\\lib.win32-3.7\\pyarrow\\tests\\data\\orc\n",
      "  copying pyarrow\\tests\\data\\orc\\TestOrcFile.test1.orc -> build\\lib.win32-3.7\\pyarrow\\tests\\data\\orc\n",
      "  copying pyarrow\\tests\\data\\orc\\TestOrcFile.testDate1900.jsn.gz -> build\\lib.win32-3.7\\pyarrow\\tests\\data\\orc\n",
      "  copying pyarrow\\tests\\data\\orc\\TestOrcFile.testDate1900.orc -> build\\lib.win32-3.7\\pyarrow\\tests\\data\\orc\n",
      "  copying pyarrow\\tests\\data\\orc\\decimal.jsn.gz -> build\\lib.win32-3.7\\pyarrow\\tests\\data\\orc\n",
      "  copying pyarrow\\tests\\data\\orc\\decimal.orc -> build\\lib.win32-3.7\\pyarrow\\tests\\data\\orc\n",
      "  creating build\\lib.win32-3.7\\pyarrow\\tests\\data\\parquet\n",
      "  copying pyarrow\\tests\\data\\parquet\\v0.7.1.all-named-index.parquet -> build\\lib.win32-3.7\\pyarrow\\tests\\data\\parquet\n",
      "  copying pyarrow\\tests\\data\\parquet\\v0.7.1.column-metadata-handling.parquet -> build\\lib.win32-3.7\\pyarrow\\tests\\data\\parquet\n",
      "  copying pyarrow\\tests\\data\\parquet\\v0.7.1.parquet -> build\\lib.win32-3.7\\pyarrow\\tests\\data\\parquet\n",
      "  copying pyarrow\\tests\\data\\parquet\\v0.7.1.some-named-index.parquet -> build\\lib.win32-3.7\\pyarrow\\tests\\data\\parquet\n",
      "  creating build\\lib.win32-3.7\\pyarrow\\tests\\parquet\n",
      "  copying pyarrow\\tests\\parquet\\common.py -> build\\lib.win32-3.7\\pyarrow\\tests\\parquet\n",
      "  copying pyarrow\\tests\\parquet\\conftest.py -> build\\lib.win32-3.7\\pyarrow\\tests\\parquet\n",
      "  copying pyarrow\\tests\\parquet\\test_basic.py -> build\\lib.win32-3.7\\pyarrow\\tests\\parquet\n",
      "  copying pyarrow\\tests\\parquet\\test_compliant_nested_type.py -> build\\lib.win32-3.7\\pyarrow\\tests\\parquet\n",
      "  copying pyarrow\\tests\\parquet\\test_data_types.py -> build\\lib.win32-3.7\\pyarrow\\tests\\parquet\n",
      "  copying pyarrow\\tests\\parquet\\test_dataset.py -> build\\lib.win32-3.7\\pyarrow\\tests\\parquet\n",
      "  copying pyarrow\\tests\\parquet\\test_datetime.py -> build\\lib.win32-3.7\\pyarrow\\tests\\parquet\n",
      "  copying pyarrow\\tests\\parquet\\test_metadata.py -> build\\lib.win32-3.7\\pyarrow\\tests\\parquet\n",
      "  copying pyarrow\\tests\\parquet\\test_pandas.py -> build\\lib.win32-3.7\\pyarrow\\tests\\parquet\n",
      "  copying pyarrow\\tests\\parquet\\test_parquet_file.py -> build\\lib.win32-3.7\\pyarrow\\tests\\parquet\n",
      "  copying pyarrow\\tests\\parquet\\test_parquet_writer.py -> build\\lib.win32-3.7\\pyarrow\\tests\\parquet\n",
      "  running build_ext\n",
      "  creating C:\\Users\\k_anu\\AppData\\Local\\Temp\\pip-install-39wok7ry\\pyarrow_5fbb23723fdd4e11b44737af39cdec71\\build\\temp.win32-3.7\n",
      "  Traceback (most recent call last):\n",
      "    File \"c:\\users\\k_anu\\appdata\\local\\programs\\python\\python37-32\\lib\\site-packages\\pip\\_vendor\\pep517\\in_process\\_in_process.py\", line 280, in <module>\n",
      "      main()\n",
      "    File \"c:\\users\\k_anu\\appdata\\local\\programs\\python\\python37-32\\lib\\site-packages\\pip\\_vendor\\pep517\\in_process\\_in_process.py\", line 263, in main\n",
      "      json_out['return_val'] = hook(**hook_input['kwargs'])\n",
      "    File \"c:\\users\\k_anu\\appdata\\local\\programs\\python\\python37-32\\lib\\site-packages\\pip\\_vendor\\pep517\\in_process\\_in_process.py\", line 205, in build_wheel\n",
      "      metadata_directory)\n",
      "    File \"C:\\Users\\k_anu\\AppData\\Local\\Temp\\pip-build-env-lrnxztj3\\overlay\\Lib\\site-packages\\setuptools\\build_meta.py\", line 222, in build_wheel\n",
      "      wheel_directory, config_settings)\n",
      "    File \"C:\\Users\\k_anu\\AppData\\Local\\Temp\\pip-build-env-lrnxztj3\\overlay\\Lib\\site-packages\\setuptools\\build_meta.py\", line 207, in _build_with_temp_dir\n",
      "      self.run_setup()\n",
      "    File \"C:\\Users\\k_anu\\AppData\\Local\\Temp\\pip-build-env-lrnxztj3\\overlay\\Lib\\site-packages\\setuptools\\build_meta.py\", line 259, in run_setup\n",
      "      self).run_setup(setup_script=setup_script)\n",
      "    File \"C:\\Users\\k_anu\\AppData\\Local\\Temp\\pip-build-env-lrnxztj3\\overlay\\Lib\\site-packages\\setuptools\\build_meta.py\", line 150, in run_setup\n",
      "      exec(compile(code, __file__, 'exec'), locals())\n",
      "    File \"setup.py\", line 623, in <module>\n",
      "      url='https://arrow.apache.org/'\n",
      "    File \"C:\\Users\\k_anu\\AppData\\Local\\Temp\\pip-build-env-lrnxztj3\\overlay\\Lib\\site-packages\\setuptools\\__init__.py\", line 153, in setup\n",
      "      return distutils.core.setup(**attrs)\n",
      "    File \"c:\\users\\k_anu\\appdata\\local\\programs\\python\\python37-32\\lib\\distutils\\core.py\", line 148, in setup\n",
      "      dist.run_commands()\n",
      "    File \"c:\\users\\k_anu\\appdata\\local\\programs\\python\\python37-32\\lib\\distutils\\dist.py\", line 966, in run_commands\n",
      "      self.run_command(cmd)\n",
      "    File \"c:\\users\\k_anu\\appdata\\local\\programs\\python\\python37-32\\lib\\distutils\\dist.py\", line 985, in run_command\n",
      "      cmd_obj.run()\n",
      "    File \"C:\\Users\\k_anu\\AppData\\Local\\Temp\\pip-build-env-lrnxztj3\\overlay\\Lib\\site-packages\\wheel\\bdist_wheel.py\", line 299, in run\n",
      "      self.run_command('build')\n",
      "    File \"c:\\users\\k_anu\\appdata\\local\\programs\\python\\python37-32\\lib\\distutils\\cmd.py\", line 313, in run_command\n",
      "      self.distribution.run_command(command)\n",
      "    File \"c:\\users\\k_anu\\appdata\\local\\programs\\python\\python37-32\\lib\\distutils\\dist.py\", line 985, in run_command\n",
      "      cmd_obj.run()\n",
      "    File \"c:\\users\\k_anu\\appdata\\local\\programs\\python\\python37-32\\lib\\distutils\\command\\build.py\", line 135, in run\n",
      "      self.run_command(cmd_name)\n",
      "    File \"c:\\users\\k_anu\\appdata\\local\\programs\\python\\python37-32\\lib\\distutils\\cmd.py\", line 313, in run_command\n",
      "      self.distribution.run_command(command)\n",
      "    File \"c:\\users\\k_anu\\appdata\\local\\programs\\python\\python37-32\\lib\\distutils\\dist.py\", line 985, in run_command\n",
      "      cmd_obj.run()\n",
      "    File \"setup.py\", line 96, in run\n",
      "      self._run_cmake()\n",
      "    File \"setup.py\", line 284, in _run_cmake\n",
      "      raise RuntimeError('Not supported on 32-bit Windows')\n",
      "  RuntimeError: Not supported on 32-bit Windows\n",
      "  ----------------------------------------\n",
      "  ERROR: Failed building wheel for pyarrow\n",
      "ERROR: Could not build wheels for pyarrow which use PEP 517 and cannot be installed directly\n",
      "WARNING: You are using pip version 21.1.1; however, version 21.1.2 is available.\n",
      "You should consider upgrading via the 'c:\\users\\k_anu\\appdata\\local\\programs\\python\\python37-32\\python.exe -m pip install --upgrade pip' command.\n"
     ]
    }
   ],
   "source": [
    "pip install atoti"
   ]
  },
  {
   "cell_type": "code",
   "execution_count": 5,
   "id": "2a7a59cf",
   "metadata": {},
   "outputs": [],
   "source": [
    "class employee:\n",
    "    name = 'Anuj'\n",
    "    age = 23\n",
    "    bodytype = 'Athletic'\n",
    "    \n",
    "    def is_he_the_man(self):\n",
    "        if self.name =='anuj':\n",
    "            print('He is my man')\n",
    "        else:\n",
    "            print('No he is not the one')"
   ]
  },
  {
   "cell_type": "code",
   "execution_count": 6,
   "id": "6cd5f1f6",
   "metadata": {},
   "outputs": [
    {
     "data": {
      "text/plain": [
       "'Anuj'"
      ]
     },
     "execution_count": 6,
     "metadata": {},
     "output_type": "execute_result"
    }
   ],
   "source": [
    "emp = employee()\n",
    "emp.name"
   ]
  },
  {
   "cell_type": "code",
   "execution_count": 7,
   "id": "c950b8bf",
   "metadata": {},
   "outputs": [
    {
     "name": "stdout",
     "output_type": "stream",
     "text": [
      "No he is not the one\n"
     ]
    }
   ],
   "source": [
    "emp.is_he_the_man()"
   ]
  },
  {
   "cell_type": "markdown",
   "id": "09fed87c",
   "metadata": {},
   "source": [
    "# how to change attributes of a class"
   ]
  },
  {
   "cell_type": "code",
   "execution_count": 11,
   "id": "2bfe7768",
   "metadata": {},
   "outputs": [],
   "source": [
    "class emps:\n",
    "    no_working_hour = 40"
   ]
  },
  {
   "cell_type": "code",
   "execution_count": 12,
   "id": "56517ff7",
   "metadata": {},
   "outputs": [
    {
     "name": "stdout",
     "output_type": "stream",
     "text": [
      "40\n",
      "40\n"
     ]
    }
   ],
   "source": [
    "em1 = emps()\n",
    "em2 = emps()\n",
    "\n",
    "print(em1.no_working_hour)\n",
    "print(em2.no_working_hour)"
   ]
  },
  {
   "cell_type": "code",
   "execution_count": 13,
   "id": "76bed30e",
   "metadata": {},
   "outputs": [
    {
     "data": {
      "text/plain": [
       "55"
      ]
     },
     "execution_count": 13,
     "metadata": {},
     "output_type": "execute_result"
    }
   ],
   "source": [
    "emps.no_working_hour = 55\n",
    "\n",
    "em1.no_working_hour"
   ]
  },
  {
   "cell_type": "markdown",
   "id": "e16b5329",
   "metadata": {},
   "source": [
    "# Instance attribute"
   ]
  },
  {
   "cell_type": "code",
   "execution_count": 14,
   "id": "72712a70",
   "metadata": {},
   "outputs": [],
   "source": [
    "#class attribute is common to all the instance of your class while the instance attribute is specific to each instance of your class"
   ]
  },
  {
   "cell_type": "code",
   "execution_count": 15,
   "id": "85f916d0",
   "metadata": {},
   "outputs": [],
   "source": [
    "em1.name = 'Anuj'\n",
    "em2.name = 'Rudra'"
   ]
  },
  {
   "cell_type": "code",
   "execution_count": 16,
   "id": "ced95c6f",
   "metadata": {},
   "outputs": [
    {
     "data": {
      "text/plain": [
       "'Anuj'"
      ]
     },
     "execution_count": 16,
     "metadata": {},
     "output_type": "execute_result"
    }
   ],
   "source": [
    "em1.name"
   ]
  },
  {
   "cell_type": "code",
   "execution_count": 17,
   "id": "0e0eb401",
   "metadata": {},
   "outputs": [
    {
     "data": {
      "text/plain": [
       "'Rudra'"
      ]
     },
     "execution_count": 17,
     "metadata": {},
     "output_type": "execute_result"
    }
   ],
   "source": [
    "em2.name"
   ]
  },
  {
   "cell_type": "code",
   "execution_count": 18,
   "id": "27a8fd83",
   "metadata": {},
   "outputs": [
    {
     "ename": "AttributeError",
     "evalue": "'emps' object has no attribute 'color'",
     "output_type": "error",
     "traceback": [
      "\u001b[1;31m---------------------------------------------------------------------------\u001b[0m",
      "\u001b[1;31mAttributeError\u001b[0m                            Traceback (most recent call last)",
      "\u001b[1;32m<ipython-input-18-65062ab5d7a2>\u001b[0m in \u001b[0;36m<module>\u001b[1;34m\u001b[0m\n\u001b[1;32m----> 1\u001b[1;33m \u001b[0mem2\u001b[0m\u001b[1;33m.\u001b[0m\u001b[0mcolor\u001b[0m\u001b[1;33m\u001b[0m\u001b[1;33m\u001b[0m\u001b[0m\n\u001b[0m",
      "\u001b[1;31mAttributeError\u001b[0m: 'emps' object has no attribute 'color'"
     ]
    }
   ],
   "source": [
    "em2.color\n",
    "\n",
    "#Here what happens is it first checks if instance attribute of color is present, if not it checks for class attribute, if not \n",
    "#then it returns false / error"
   ]
  },
  {
   "cell_type": "code",
   "execution_count": 19,
   "id": "71b0a067",
   "metadata": {},
   "outputs": [],
   "source": [
    "em2.color = 'Wheatish'"
   ]
  },
  {
   "cell_type": "code",
   "execution_count": 20,
   "id": "5d9104a9",
   "metadata": {},
   "outputs": [
    {
     "data": {
      "text/plain": [
       "'Wheatish'"
      ]
     },
     "execution_count": 20,
     "metadata": {},
     "output_type": "execute_result"
    }
   ],
   "source": [
    "em2.color"
   ]
  },
  {
   "cell_type": "code",
   "execution_count": 21,
   "id": "d1d806d4",
   "metadata": {},
   "outputs": [],
   "source": [
    "em1.no_working_hour = 66"
   ]
  },
  {
   "cell_type": "code",
   "execution_count": 22,
   "id": "db9ad9c0",
   "metadata": {},
   "outputs": [
    {
     "data": {
      "text/plain": [
       "66"
      ]
     },
     "execution_count": 22,
     "metadata": {},
     "output_type": "execute_result"
    }
   ],
   "source": [
    "em1.no_working_hour"
   ]
  },
  {
   "cell_type": "code",
   "execution_count": 23,
   "id": "322dca68",
   "metadata": {},
   "outputs": [
    {
     "data": {
      "text/plain": [
       "55"
      ]
     },
     "execution_count": 23,
     "metadata": {},
     "output_type": "execute_result"
    }
   ],
   "source": [
    "em2.no_working_hour"
   ]
  },
  {
   "cell_type": "code",
   "execution_count": 24,
   "id": "fd5e51f9",
   "metadata": {},
   "outputs": [],
   "source": [
    "class Employee:\n",
    "    def employee_details():\n",
    "        pass"
   ]
  },
  {
   "cell_type": "code",
   "execution_count": 27,
   "id": "a15b72c9",
   "metadata": {},
   "outputs": [
    {
     "ename": "TypeError",
     "evalue": "employee_details() takes 0 positional arguments but 1 was given",
     "output_type": "error",
     "traceback": [
      "\u001b[1;31m---------------------------------------------------------------------------\u001b[0m",
      "\u001b[1;31mTypeError\u001b[0m                                 Traceback (most recent call last)",
      "\u001b[1;32m<ipython-input-27-c92b2252f913>\u001b[0m in \u001b[0;36m<module>\u001b[1;34m\u001b[0m\n\u001b[0;32m      1\u001b[0m \u001b[0memp\u001b[0m \u001b[1;33m=\u001b[0m \u001b[0mEmployee\u001b[0m\u001b[1;33m(\u001b[0m\u001b[1;33m)\u001b[0m\u001b[1;33m\u001b[0m\u001b[1;33m\u001b[0m\u001b[0m\n\u001b[1;32m----> 2\u001b[1;33m \u001b[0memp\u001b[0m\u001b[1;33m.\u001b[0m\u001b[0memployee_details\u001b[0m\u001b[1;33m(\u001b[0m\u001b[1;33m)\u001b[0m\u001b[1;33m\u001b[0m\u001b[1;33m\u001b[0m\u001b[0m\n\u001b[0m",
      "\u001b[1;31mTypeError\u001b[0m: employee_details() takes 0 positional arguments but 1 was given"
     ]
    }
   ],
   "source": [
    "emp = Employee()\n",
    "emp.employee_details()"
   ]
  },
  {
   "cell_type": "code",
   "execution_count": 28,
   "id": "38d9f6df",
   "metadata": {},
   "outputs": [],
   "source": [
    "#python by default takes\n",
    "#class.instance(object)"
   ]
  },
  {
   "cell_type": "code",
   "execution_count": 32,
   "id": "0780d240",
   "metadata": {},
   "outputs": [],
   "source": [
    "class Employee:\n",
    "    def employee_details(self):\n",
    "        self.name = 'Anuj'\n",
    "        print('Name = ', self.name)\n",
    "        "
   ]
  },
  {
   "cell_type": "code",
   "execution_count": 33,
   "id": "c5f9dc8a",
   "metadata": {},
   "outputs": [
    {
     "name": "stdout",
     "output_type": "stream",
     "text": [
      "Name =  Anuj\n"
     ]
    }
   ],
   "source": [
    "emp = Employee()\n",
    "emp.employee_details()"
   ]
  },
  {
   "cell_type": "code",
   "execution_count": 35,
   "id": "13390d1c",
   "metadata": {},
   "outputs": [
    {
     "name": "stdout",
     "output_type": "stream",
     "text": [
      "Name =  Anuj\n"
     ]
    }
   ],
   "source": [
    "#or another way by python style (less used convention)\n",
    "Employee.employee_details(emp)\n",
    "\n",
    "# employee_details() takes 0 positional arguments but 1 was given \n",
    "\n",
    "#now  you understand why this error comes up"
   ]
  },
  {
   "cell_type": "code",
   "execution_count": 36,
   "id": "a2373e28",
   "metadata": {},
   "outputs": [],
   "source": [
    "#if you don't use self object then lifespan of that particular instance is limited to that method. / function"
   ]
  },
  {
   "cell_type": "code",
   "execution_count": 41,
   "id": "a918a991",
   "metadata": {},
   "outputs": [],
   "source": [
    "class employees:\n",
    "    def empl_details(self):\n",
    "        self.name = 'Anuj'\n",
    "        print('Name', self.name)\n",
    "        age = 23\n",
    "        print('age', age)\n",
    "    def emply_det(self):\n",
    "        print('printing by diff. method :', self.name)\n",
    "        print('Age', Age)"
   ]
  },
  {
   "cell_type": "code",
   "execution_count": 42,
   "id": "5e0bf9a1",
   "metadata": {},
   "outputs": [
    {
     "name": "stdout",
     "output_type": "stream",
     "text": [
      "Name Anuj\n",
      "age 23\n",
      "None\n"
     ]
    }
   ],
   "source": [
    "obj = employees()\n",
    "print(obj.empl_details())\n",
    "\n"
   ]
  },
  {
   "cell_type": "code",
   "execution_count": 43,
   "id": "9febe82c",
   "metadata": {},
   "outputs": [
    {
     "name": "stdout",
     "output_type": "stream",
     "text": [
      "printing by diff. method : Anuj\n"
     ]
    },
    {
     "ename": "NameError",
     "evalue": "name 'Age' is not defined",
     "output_type": "error",
     "traceback": [
      "\u001b[1;31m---------------------------------------------------------------------------\u001b[0m",
      "\u001b[1;31mNameError\u001b[0m                                 Traceback (most recent call last)",
      "\u001b[1;32m<ipython-input-43-2b9b78e1cf2b>\u001b[0m in \u001b[0;36m<module>\u001b[1;34m\u001b[0m\n\u001b[1;32m----> 1\u001b[1;33m \u001b[0mprint\u001b[0m\u001b[1;33m(\u001b[0m\u001b[0mobj\u001b[0m\u001b[1;33m.\u001b[0m\u001b[0memply_det\u001b[0m\u001b[1;33m(\u001b[0m\u001b[1;33m)\u001b[0m\u001b[1;33m)\u001b[0m\u001b[1;33m\u001b[0m\u001b[1;33m\u001b[0m\u001b[0m\n\u001b[0m",
      "\u001b[1;32m<ipython-input-41-baad21600662>\u001b[0m in \u001b[0;36memply_det\u001b[1;34m(self)\u001b[0m\n\u001b[0;32m      7\u001b[0m     \u001b[1;32mdef\u001b[0m \u001b[0memply_det\u001b[0m\u001b[1;33m(\u001b[0m\u001b[0mself\u001b[0m\u001b[1;33m)\u001b[0m\u001b[1;33m:\u001b[0m\u001b[1;33m\u001b[0m\u001b[1;33m\u001b[0m\u001b[0m\n\u001b[0;32m      8\u001b[0m         \u001b[0mprint\u001b[0m\u001b[1;33m(\u001b[0m\u001b[1;34m'printing by diff. method :'\u001b[0m\u001b[1;33m,\u001b[0m \u001b[0mself\u001b[0m\u001b[1;33m.\u001b[0m\u001b[0mname\u001b[0m\u001b[1;33m)\u001b[0m\u001b[1;33m\u001b[0m\u001b[1;33m\u001b[0m\u001b[0m\n\u001b[1;32m----> 9\u001b[1;33m         \u001b[0mprint\u001b[0m\u001b[1;33m(\u001b[0m\u001b[1;34m'Age'\u001b[0m\u001b[1;33m,\u001b[0m \u001b[0mAge\u001b[0m\u001b[1;33m)\u001b[0m\u001b[1;33m\u001b[0m\u001b[1;33m\u001b[0m\u001b[0m\n\u001b[0m",
      "\u001b[1;31mNameError\u001b[0m: name 'Age' is not defined"
     ]
    }
   ],
   "source": [
    "print(obj.emply_det())"
   ]
  },
  {
   "cell_type": "code",
   "execution_count": 45,
   "id": "3ca3084a",
   "metadata": {},
   "outputs": [],
   "source": [
    "#so you see scope of 'age' gets limited within that method while name gets printed\n"
   ]
  },
  {
   "cell_type": "markdown",
   "id": "e25c47a2",
   "metadata": {},
   "source": [
    "# Use of static method\n"
   ]
  },
  {
   "cell_type": "code",
   "execution_count": 67,
   "id": "3fa0c6b1",
   "metadata": {},
   "outputs": [],
   "source": [
    "#without passing self, if you just want to print a message just use decorator\n",
    "\n",
    "#decorators are functions which takes another function and extend their functionality, it ignores the binding of object"
   ]
  },
  {
   "cell_type": "code",
   "execution_count": 76,
   "id": "de8766c9",
   "metadata": {},
   "outputs": [],
   "source": [
    "class House:\n",
    "    def requirements(self):\n",
    "        self.area = 250\n",
    "        print(\"Area of house is\", self.area)\n",
    "    @staticmethod\n",
    "    def message():\n",
    "        print(\"Welcome to our house\")\n",
    "        print(\"this is sum\", 3+9)"
   ]
  },
  {
   "cell_type": "code",
   "execution_count": 77,
   "id": "9fd1e4de",
   "metadata": {},
   "outputs": [],
   "source": [
    "house = House()\n"
   ]
  },
  {
   "cell_type": "code",
   "execution_count": 78,
   "id": "9603ceeb",
   "metadata": {},
   "outputs": [
    {
     "name": "stdout",
     "output_type": "stream",
     "text": [
      "Welcome to our house\n",
      "this is sum 12\n"
     ]
    }
   ],
   "source": [
    "house.message()"
   ]
  },
  {
   "cell_type": "code",
   "execution_count": 79,
   "id": "38b56d09",
   "metadata": {},
   "outputs": [
    {
     "name": "stdout",
     "output_type": "stream",
     "text": [
      "Area of house is 250\n"
     ]
    }
   ],
   "source": [
    "house.requirements()"
   ]
  },
  {
   "cell_type": "code",
   "execution_count": 80,
   "id": "4cd5c1f4",
   "metadata": {},
   "outputs": [
    {
     "data": {
      "text/plain": [
       "250"
      ]
     },
     "execution_count": 80,
     "metadata": {},
     "output_type": "execute_result"
    }
   ],
   "source": [
    "house.area"
   ]
  },
  {
   "cell_type": "markdown",
   "id": "076e8a37",
   "metadata": {},
   "source": [
    "# Use of init method"
   ]
  },
  {
   "cell_type": "code",
   "execution_count": 81,
   "id": "96d01978",
   "metadata": {},
   "outputs": [],
   "source": [
    "# as soon as you call the object is being created of class init method gets invoked default, use of init method is to initialize\n",
    "# all the variables.\n"
   ]
  },
  {
   "cell_type": "code",
   "execution_count": 82,
   "id": "d4da903c",
   "metadata": {},
   "outputs": [],
   "source": [
    "class House:\n",
    "    def house_det(self):\n",
    "        self.name = 'Bhavan'\n",
    "    def houses_dett(self):\n",
    "        print(self.name)"
   ]
  },
  {
   "cell_type": "code",
   "execution_count": 83,
   "id": "c66b3254",
   "metadata": {},
   "outputs": [],
   "source": [
    "hous = House()\n"
   ]
  },
  {
   "cell_type": "code",
   "execution_count": 85,
   "id": "975ea030",
   "metadata": {},
   "outputs": [
    {
     "ename": "AttributeError",
     "evalue": "'House' object has no attribute 'name'",
     "output_type": "error",
     "traceback": [
      "\u001b[1;31m---------------------------------------------------------------------------\u001b[0m",
      "\u001b[1;31mAttributeError\u001b[0m                            Traceback (most recent call last)",
      "\u001b[1;32m<ipython-input-85-0126196d912b>\u001b[0m in \u001b[0;36m<module>\u001b[1;34m\u001b[0m\n\u001b[1;32m----> 1\u001b[1;33m \u001b[0mhous\u001b[0m\u001b[1;33m.\u001b[0m\u001b[0mhouses_dett\u001b[0m\u001b[1;33m(\u001b[0m\u001b[1;33m)\u001b[0m\u001b[1;33m\u001b[0m\u001b[1;33m\u001b[0m\u001b[0m\n\u001b[0m",
      "\u001b[1;32m<ipython-input-82-b920b132ebc5>\u001b[0m in \u001b[0;36mhouses_dett\u001b[1;34m(self)\u001b[0m\n\u001b[0;32m      3\u001b[0m         \u001b[0mself\u001b[0m\u001b[1;33m.\u001b[0m\u001b[0mname\u001b[0m \u001b[1;33m=\u001b[0m \u001b[1;34m'Bhavan'\u001b[0m\u001b[1;33m\u001b[0m\u001b[1;33m\u001b[0m\u001b[0m\n\u001b[0;32m      4\u001b[0m     \u001b[1;32mdef\u001b[0m \u001b[0mhouses_dett\u001b[0m\u001b[1;33m(\u001b[0m\u001b[0mself\u001b[0m\u001b[1;33m)\u001b[0m\u001b[1;33m:\u001b[0m\u001b[1;33m\u001b[0m\u001b[1;33m\u001b[0m\u001b[0m\n\u001b[1;32m----> 5\u001b[1;33m         \u001b[0mprint\u001b[0m\u001b[1;33m(\u001b[0m\u001b[0mself\u001b[0m\u001b[1;33m.\u001b[0m\u001b[0mname\u001b[0m\u001b[1;33m)\u001b[0m\u001b[1;33m\u001b[0m\u001b[1;33m\u001b[0m\u001b[0m\n\u001b[0m",
      "\u001b[1;31mAttributeError\u001b[0m: 'House' object has no attribute 'name'"
     ]
    }
   ],
   "source": [
    "hous.houses_dett()"
   ]
  },
  {
   "cell_type": "code",
   "execution_count": 86,
   "id": "c0acc5b3",
   "metadata": {},
   "outputs": [],
   "source": [
    "#when you are trying to initiate the second fucntion first, remember it has no initializtion, so it fails to fetch the attribute"
   ]
  },
  {
   "cell_type": "code",
   "execution_count": 87,
   "id": "51f1528a",
   "metadata": {},
   "outputs": [],
   "source": [
    "#so __init__ is a mechanism which initialize all the attributes of our object or class before they are being used.\n",
    "#special method start and end with __"
   ]
  },
  {
   "cell_type": "code",
   "execution_count": 88,
   "id": "089e4eb1",
   "metadata": {},
   "outputs": [],
   "source": [
    "class House:\n",
    "    def __init__(self):\n",
    "        self.name = 'Bhavan'\n",
    "    def houses_dett(self):\n",
    "        print(self.name)"
   ]
  },
  {
   "cell_type": "code",
   "execution_count": 89,
   "id": "1592cf6c",
   "metadata": {},
   "outputs": [
    {
     "name": "stdout",
     "output_type": "stream",
     "text": [
      "Bhavan\n"
     ]
    }
   ],
   "source": [
    "hous = House()\n",
    "hous.houses_dett()"
   ]
  },
  {
   "cell_type": "code",
   "execution_count": 106,
   "id": "44c8b874",
   "metadata": {},
   "outputs": [],
   "source": [
    "class toffee:\n",
    "    def __init__(self, candyname):\n",
    "        self.canname = candyname\n",
    "    \n",
    "    def candy(self):\n",
    "        print(\"This is a\", self.canname)"
   ]
  },
  {
   "cell_type": "code",
   "execution_count": 107,
   "id": "d38435ed",
   "metadata": {},
   "outputs": [
    {
     "name": "stdout",
     "output_type": "stream",
     "text": [
      "This is a Sweetcandy\n"
     ]
    }
   ],
   "source": [
    "tf1 = toffee('Sweetcandy')\n",
    "tf2 = toffee('Sourcandy')\n",
    "\n",
    "tf1.candy()"
   ]
  },
  {
   "cell_type": "code",
   "execution_count": 108,
   "id": "5c3594e5",
   "metadata": {},
   "outputs": [
    {
     "name": "stdout",
     "output_type": "stream",
     "text": [
      "This is a Sourcandy\n"
     ]
    }
   ],
   "source": [
    "tf2.candy()"
   ]
  },
  {
   "cell_type": "code",
   "execution_count": null,
   "id": "e30369ab",
   "metadata": {},
   "outputs": [
    {
     "name": "stdout",
     "output_type": "stream",
     "text": [
      "Enter 1 to display books\n",
      "Enter 2 to lend books\n",
      "Enter 3 to return books\n",
      "Enter 4 to exit\n",
      "1\n",
      "\n",
      "Avaiable books:\n",
      "Intelligent Investor\n",
      "One Up on Wall Street\n",
      "CPR and Pivot Points\n",
      "Enter 1 to display books\n",
      "Enter 2 to lend books\n",
      "Enter 3 to return books\n",
      "Enter 4 to exit\n",
      "4\n",
      "Enter 1 to display books\n",
      "Enter 2 to lend books\n",
      "Enter 3 to return books\n",
      "Enter 4 to exit\n"
     ]
    }
   ],
   "source": [
    "class Library:\n",
    "    def __init__(self, listofbooks):\n",
    "        self.available_books= listofbooks\n",
    "    def Displaybooks(self):\n",
    "        print()\n",
    "        print('Avaiable books:')\n",
    "        for i in self.available_books:\n",
    "            print(i)\n",
    "    def Lendbooks(self, requestedBook):\n",
    "        if requestedBook in self.available_books:\n",
    "            print(\"You have borrowed the book\")\n",
    "            self.available_books.remove(requestedBook)\n",
    "        else:\n",
    "            print(\"Please enter the correct bookname\")\n",
    "        \n",
    "    def Update_books(self, returnedbook):\n",
    "        self.available_books.append(returnedbook)\n",
    "        print(\"You have returned the book\")\n",
    "    \n",
    "class Customer:\n",
    "    def Borrow_book(self):\n",
    "        print('Enter the book you would like to borrow')\n",
    "        self.book = input()\n",
    "        return self.book\n",
    "\n",
    "    def Return_book(self):\n",
    "        print(\"Enter the book you would like to return\")\n",
    "        self.book = input()\n",
    "        return self.book\n",
    "        \n",
    "library = Library(['Intelligent Investor', 'One Up on Wall Street', 'CPR and Pivot Points'])\n",
    "customer = Customer()\n",
    "while True:          \n",
    "    print('Enter 1 to display books')\n",
    "    print('Enter 2 to lend books')\n",
    "    print('Enter 3 to return books')\n",
    "    print('Enter 4 to exit')\n",
    "\n",
    "    userchoice = int(input())\n",
    "\n",
    "    if userchoice is 1:\n",
    "        library.Displaybooks()\n",
    "    elif userchoice is 2:\n",
    "        requestedbook = customer.Borrow_book()\n",
    "        library.Lendbooks(requestedbook)\n",
    "    elif userchoice is 3:\n",
    "        returnedbooks = customer.Return_book()\n",
    "        library.Update_books(returnedbooks)\n",
    "    elif userchoice is 4:\n",
    "        exit"
   ]
  },
  {
   "cell_type": "markdown",
   "id": "e74c7297",
   "metadata": {},
   "source": [
    "# Inheritance"
   ]
  },
  {
   "cell_type": "code",
   "execution_count": null,
   "id": "7a2d5a68",
   "metadata": {},
   "outputs": [],
   "source": [
    "#You can inhert other attribute of class if that class is inherited.\n"
   ]
  }
 ],
 "metadata": {
  "kernelspec": {
   "display_name": "Python 3",
   "language": "python",
   "name": "python3"
  },
  "language_info": {
   "codemirror_mode": {
    "name": "ipython",
    "version": 3
   },
   "file_extension": ".py",
   "mimetype": "text/x-python",
   "name": "python",
   "nbconvert_exporter": "python",
   "pygments_lexer": "ipython3",
   "version": "3.7.4"
  }
 },
 "nbformat": 4,
 "nbformat_minor": 5
}
